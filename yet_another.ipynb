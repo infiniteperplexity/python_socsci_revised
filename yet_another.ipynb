{
 "cells": [
  {
   "cell_type": "code",
   "execution_count": 2,
   "id": "c58b00c2",
   "metadata": {},
   "outputs": [
    {
     "name": "stderr",
     "output_type": "stream",
     "text": [
      "/tmp/ipykernel_3398425/2615592127.py:2: DtypeWarning: Columns (8,10,11,16,18,19,20,22,23,24,26,27,28,30,31,36,38,39,1448,1449,1450,1451,1452,1455,1456,1457,1458,1459,1463,1464,1465) have mixed types. Specify dtype option on import or set low_memory=False.\n",
      "  df = pd.read_csv(\"raw/ds/anes_timeseries_2024_csv_20250808.csv\")\n"
     ]
    },
    {
     "data": {
      "text/plain": [
       "V242526\n",
       "-9      79\n",
       "-7      40\n",
       "-6     472\n",
       "-5      65\n",
       "-1     245\n",
       " 1    1911\n",
       " 2    2498\n",
       " 3     211\n",
       "Name: count, dtype: int64"
      ]
     },
     "execution_count": 2,
     "metadata": {},
     "output_type": "execute_result"
    }
   ],
   "source": [
    "import pandas as pd\n",
    "df = pd.read_csv(\"raw/ds/anes_timeseries_2024_csv_20250808.csv\")\n",
    "df[\"V242526\"].value_counts(dropna=False).sort_index()"
   ]
  }
 ],
 "metadata": {
  "kernelspec": {
   "display_name": "socsci_venv",
   "language": "python",
   "name": "python3"
  },
  "language_info": {
   "codemirror_mode": {
    "name": "ipython",
    "version": 3
   },
   "file_extension": ".py",
   "mimetype": "text/x-python",
   "name": "python",
   "nbconvert_exporter": "python",
   "pygments_lexer": "ipython3",
   "version": "3.11.0"
  }
 },
 "nbformat": 4,
 "nbformat_minor": 5
}
